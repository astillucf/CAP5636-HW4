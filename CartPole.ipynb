{
 "cells": [
  {
   "cell_type": "heading",
   "metadata": {},
   "level": 1,
   "source": [
    "Cart Pole Problem"
   ]
  },
  {
   "cell_type": "markdown",
   "metadata": {},
   "source": [
    "The CartProblem is addressed.....\n",
    "The best set of parameters is used to run the problem one final time.\n"
   ]
  },
  {
   "cell_type": "heading",
   "metadata": {
    "collapsed": true
   },
   "level": 2,
   "source": [
    "Import Statements"
   ]
  },
  {
   "cell_type": "code",
   "execution_count": null,
   "metadata": {},
   "outputs": [],
   "source": [
    "import gym\n",
    "import numpy as np"
   ]
  },
  {
   "cell_type": "heading",
   "metadata": {},
   "level": 2,
   "source": [
    "Establish Gym Environment"
   ]
  },
  {
   "cell_type": "code",
   "execution_count": null,
   "metadata": {},
   "outputs": [],
   "source": [
    "env = gym.make('CartPole-v1')\n",
    "env.reset()"
   ]
  },
  {
   "cell_type": "heading",
   "metadata": {},
   "level": 2,
   "source": [
    "Run Cart Pole Instance"
   ]
  },
  {
   "cell_type": "markdown",
   "metadata": {},
   "source": []
  },
  {
   "cell_type": "code",
   "execution_count": null,
   "metadata": {},
   "outputs": [],
   "source": [
    "def runCartPole(parameters):\n",
    "    observation = env.reset()\n",
    "    currentReward = 0\n",
    "\n",
    "    for _ in range(500):\n",
    "        #env.render()\n",
    "        if np.matmul(parameters, observation) < 0:\n",
    "            action = 0\n",
    "        else:\n",
    "            action = 1\n",
    "\n",
    "        observation, reward, done, info = env.step(action)\n",
    "\n",
    "        currentReward += reward\n",
    "        if done:\n",
    "            break\n",
    "    return currentReward"
   ]
  },
  {
   "cell_type": "heading",
   "metadata": {},
   "level": 2,
   "source": [
    "Main Solver Function"
   ]
  },
  {
   "cell_type": "markdown",
   "metadata": {},
   "source": [
    "Includes randomScale in order to randomize the parameters that are passed to each episode"
   ]
  },
  {
   "cell_type": "code",
   "execution_count": null,
   "metadata": {},
   "outputs": [],
   "source": [
    "def CartPoleSolver():\n",
    "    randomScale = .5\n",
    "    maxReward = 0\n",
    "    parameters = 1\n",
    "\n",
    "    for _ in range(1000):\n",
    "        newParameters = parameters + np.random.rand(4) * randomScale\n",
    "        reward = runCartPole(newParameters)\n",
    "\n",
    "        if reward > maxReward:\n",
    "            maxReward = reward\n",
    "            parameters = newParameters\n",
    "\n",
    "        print('Reward:', reward, 'Max reward:', maxReward)\n",
    "\n",
    "        if reward == 500:\n",
    "            break\n",
    "\n",
    "    finalReward = 0\n",
    "\n",
    "    finalReward += runCartPole(parameters)\n",
    "\n",
    "    print('Final Score:', finalReward)"
   ]
  },
  {
   "cell_type": "heading",
   "metadata": {},
   "level": 2,
   "source": [
    "Section 3"
   ]
  },
  {
   "cell_type": "code",
   "execution_count": null,
   "metadata": {},
   "outputs": [],
   "source": [
    "if __name__ == '__main__':\n",
    "    CartPoleSolver()"
   ]
  }
 ],
 "metadata": {
  "kernelspec": {
   "display_name": "Python 2",
   "language": "python",
   "name": "python2"
  },
  "language_info": {
   "codemirror_mode": {
    "name": "ipython",
    "version": 2
   },
   "file_extension": ".py",
   "mimetype": "text/x-python",
   "name": "python",
   "nbconvert_exporter": "python",
   "pygments_lexer": "ipython2",
   "version": "2.7.6"
  }
 },
 "nbformat": 4,
 "nbformat_minor": 0
}
