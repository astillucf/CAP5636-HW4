{
 "cells": [
  {
   "cell_type": "markdown",
   "metadata": {},
   "source": [
    "Cart Pole Problem"
   ]
  },
  {
   "cell_type": "markdown",
   "metadata": {
    "collapsed": true
   },
   "source": [
    "Import Statements"
   ]
  },
  {
   "cell_type": "code",
   "execution_count": null,
   "metadata": {},
   "outputs": [],
   "source": [
    "import gym\n",
    "import numpy as np"
   ]
  },
  {
   "cell_type": "markdown",
   "metadata": {},
   "source": [
    "Establish Gym Environment"
   ]
  },
  {
   "cell_type": "code",
   "execution_count": null,
   "metadata": {},
   "outputs": [],
   "source": [
    "env = gym.make('CartPole-v1')\n",
    "env.reset()"
   ]
  },
  {
   "cell_type": "markdown",
   "metadata": {},
   "source": [
    "Run Cart Pole Episode"
   ]
  },
  {
   "cell_type": "markdown",
   "metadata": {},
   "source": [
    "Executes runCartPole function based on passed parameters value. Multiplies the parameters by the observation. If the product is less than 0, gives an action of move to the left. Otherwise, gives an action of move to the right. Keeps a running total of the reward and passes that back to the main Solver function. Loops to a maximum reward of 500. If any of the termination conditions are met before reaching the maximum reward (i.e. pole angle greater than |12|), ends the episode. "
   ]
  },
  {
   "cell_type": "code",
   "execution_count": null,
   "metadata": {},
   "outputs": [],
   "source": [
    "def runCartPole(parameters):\n",
    "    observation = env.reset()\n",
    "    currentReward = 0\n",
    "\n",
    "    for _ in range(500):\n",
    "        #env.render()\n",
    "        if np.matmul(parameters, observation) < 0:\n",
    "            action = 0\n",
    "        else:\n",
    "            action = 1\n",
    "\n",
    "        observation, reward, done, info = env.step(action)\n",
    "\n",
    "        currentReward += reward\n",
    "        if done:\n",
    "            break\n",
    "    return currentReward"
   ]
  },
  {
   "cell_type": "markdown",
   "metadata": {},
   "source": [
    "Main Solver Function"
   ]
  },
  {
   "cell_type": "markdown",
   "metadata": {},
   "source": [
    "Includes randomScale in order to randomize the parameters that are passed for each episode. The function loops for a maximum of 1000 episodes. If the reward for the current episode is greater than the previous maximum reward, that reward replaces the previous maximum. Once a reward of 500 is reached, the loop is exited and the parameters are run one final time."
   ]
  },
  {
   "cell_type": "code",
   "execution_count": null,
   "metadata": {},
   "outputs": [],
   "source": [
    "def CartPoleSolver():\n",
    "    randomScale = .5\n",
    "    maxReward = 0\n",
    "    parameters = 1\n",
    "\n",
    "    for _ in range(1000):\n",
    "        newParameters = parameters + np.random.rand(4) * randomScale\n",
    "        reward = runCartPole(newParameters)\n",
    "\n",
    "        if reward > maxReward:\n",
    "            maxReward = reward\n",
    "            parameters = newParameters\n",
    "\n",
    "        print('Reward:', reward, 'Max reward:', maxReward)\n",
    "\n",
    "        if reward == 500:\n",
    "            break\n",
    "\n",
    "    finalReward = 0\n",
    "\n",
    "    finalReward += runCartPole(parameters)\n",
    "\n",
    "    print('Final Score:', finalReward)"
   ]
  },
  {
   "cell_type": "markdown",
   "metadata": {},
   "source": [
    "Execute Main Function"
   ]
  },
  {
   "cell_type": "code",
   "execution_count": null,
   "metadata": {},
   "outputs": [],
   "source": [
    "if __name__ == '__main__':\n",
    "    CartPoleSolver()"
   ]
  }
 ],
 "metadata": {
  "kernelspec": {
   "display_name": "Python 2",
   "language": "python",
   "name": "python2"
  },
  "language_info": {
   "codemirror_mode": {
    "name": "ipython",
    "version": 2
   },
   "file_extension": ".py",
   "mimetype": "text/x-python",
   "name": "python",
   "nbconvert_exporter": "python",
   "pygments_lexer": "ipython2",
   "version": "2.7.6"
  }
 },
 "nbformat": 4,
 "nbformat_minor": 0
}
